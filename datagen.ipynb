{
 "cells": [
  {
   "metadata": {},
   "cell_type": "code",
   "source": [
    "# # Iterate over each chunk\n",
    "# for start in range(1, total_files + 1, chunk_size):\n",
    "#     end = min(start_id + chunk_size - 1, total_files)"
   ],
   "id": "c470320219d078",
   "outputs": [],
   "execution_count": null
  },
  {
   "metadata": {
    "ExecuteTime": {
     "end_time": "2024-06-16T16:12:45.889233Z",
     "start_time": "2024-06-16T16:12:45.867923Z"
    }
   },
   "cell_type": "code",
   "source": [
    "import os\n",
    "import numpy as np\n",
    "import nibabel as nib\n",
    "import shutil\n",
    "import keras\n",
    "from tensorflow.keras.callbacks import ModelCheckpoint, EarlyStopping, TensorBoard\n",
    "\n",
    "\n",
    "\n",
    "def load_nifti_file(filepath):\n",
    "    \"\"\"Load a NIfTI file and return its data as a numpy array.\"\"\"\n",
    "    scan = nib.load(filepath)\n",
    "    return scan.get_fdata()\n",
    "\n",
    "def normalize(volume):\n",
    "    \"\"\"Normalize the volume by clipping and standardizing.\"\"\"\n",
    "    min_val = -1000\n",
    "    max_val = 400\n",
    "    volume = np.clip(volume, min_val, max_val)\n",
    "    mean = np.mean(volume)\n",
    "    std = np.std(volume)\n",
    "    volume = (volume - mean) / std\n",
    "    return volume\n",
    "\n",
    "input_dir = './Dataset'\n",
    "output_dir = './Dataset/Processed'\n",
    "total_size={'Training':369,'Validation':125}\n",
    "raw_path = {\n",
    "    'Training': {\n",
    "        'flair': 'flair',\n",
    "        't1': 't1',\n",
    "        't1ce': 't1ce',\n",
    "        't2': 't2',\n",
    "        'mask': 'seg'\n",
    "    },\n",
    "    'Validation': {\n",
    "        'flair': 'flair',\n",
    "        't1': 't1',\n",
    "        't1ce': 't1ce',\n",
    "        't2': 't2'\n",
    "    }\n",
    "}\n",
    "def preprocess_train_chunk(input_dir, output_dir, phase,chunk_index):\n",
    "    \n",
    "        chunk_size=41\n",
    "        X_train = np.empty(chunk_size, 240, 240, 155,4)\n",
    "        y_train = np.empty(chunk_size,240, 240, 155,1, dtype=int)\n",
    "        start_id = chunk_index * chunk_size + 1\n",
    "        end_id = min((chunk_index + 1) * chunk_size, 369)\n",
    "        for i in range(start_id, end_id + 1):\n",
    "            h=0\n",
    "            id = f\"{i:03d}\"\n",
    "            npy_folder = os.path.join(output_dir, phase, f'chunk_{chunk_index}',i)\n",
    "            os.makedirs(npy_folder, exist_ok=True)\n",
    "            for j,modality in enumerate( ['flair', 't1', 't1ce', 't2','seg']):\n",
    "                if modality != 'seg':\n",
    "                    #Modality data\n",
    "                    channel_name = f'BraTS20_{phase}_{id}_{modality}'\n",
    "                    channel_path = os.path.join(input_dir, phase, modality)\n",
    "                    channel = load_nifti_file(os.path.join(channel_path, channel_name+ '.nii'))\n",
    "                    channel = normalize(channel)\n",
    "                    npy_channel_path=os.path.join()\n",
    "                    npy_channel=np.save(npy_channel_path, channel)\n",
    "                    X_train[h, :, :, :, j] = np.load(npy_channel)   \n",
    "                else:\n",
    "                    #Mask data\n",
    "                    mask_path= os.path.join(input_dir, phase, 'mask')\n",
    "                    mask_name= f'BraTS20_{phase}_{id}_{seg}'\n",
    "                    mask = load_nifti_file(os.path.join(mask_path, mask_name + '.nii'))\n",
    "                    npy_mask_path=os.path.join()\n",
    "                    npy_mask=np.save(npy_mask_path, mask)\n",
    "                    npy_mask=np.load(npy_mask)\n",
    "                    y_train[h,] = npy_mask.reshape(*self.dim, 1)  \n",
    "                h=+1\n",
    "\n",
    "\n",
    "\n",
    "\n",
    "            \n",
    "            "
   ],
   "id": "initial_id",
   "outputs": [],
   "execution_count": 74
  },
  {
   "metadata": {},
   "cell_type": "code",
   "outputs": [],
   "execution_count": null,
   "source": "",
   "id": "1ae3301d0889c51d"
  },
  {
   "metadata": {
    "ExecuteTime": {
     "end_time": "2024-06-16T16:13:05.228200Z",
     "start_time": "2024-06-16T16:12:46.687991Z"
    }
   },
   "cell_type": "code",
   "source": "",
   "id": "f24252c6d4aac2ef",
   "outputs": [],
   "execution_count": 75
  },
  {
   "metadata": {
    "ExecuteTime": {
     "end_time": "2024-06-16T16:15:45.916775Z",
     "start_time": "2024-06-16T16:15:45.906390Z"
    }
   },
   "cell_type": "code",
   "source": "",
   "id": "eb3c5c327b363f2e",
   "outputs": [],
   "execution_count": 80
  },
  {
   "metadata": {},
   "cell_type": "code",
   "source": "",
   "id": "1925a2fb944a33a7",
   "outputs": [],
   "execution_count": null
  },
  {
   "metadata": {},
   "cell_type": "code",
   "source": "",
   "id": "4156d7ab46f5a4ad",
   "outputs": [],
   "execution_count": null
  },
  {
   "metadata": {},
   "cell_type": "code",
   "source": "",
   "id": "44592690999abd05",
   "outputs": [],
   "execution_count": null
  },
  {
   "metadata": {},
   "cell_type": "code",
   "source": "",
   "id": "80f9a17e47e011a7",
   "outputs": [],
   "execution_count": null
  },
  {
   "metadata": {},
   "cell_type": "code",
   "source": "",
   "id": "89fd4675dae8092f",
   "outputs": [],
   "execution_count": null
  },
  {
   "metadata": {},
   "cell_type": "code",
   "source": "",
   "id": "d7fc3c24837c87e0",
   "outputs": [],
   "execution_count": null
  },
  {
   "metadata": {},
   "cell_type": "code",
   "source": "",
   "id": "45e42e4fd7fc9e40",
   "outputs": [],
   "execution_count": null
  },
  {
   "metadata": {},
   "cell_type": "code",
   "source": "",
   "id": "54522a59d7c15f9f",
   "outputs": [],
   "execution_count": null
  },
  {
   "metadata": {},
   "cell_type": "code",
   "source": "",
   "id": "2da371b94df474a6",
   "outputs": [],
   "execution_count": null
  },
  {
   "metadata": {},
   "cell_type": "code",
   "source": "",
   "id": "4eec6917d585c8af",
   "outputs": [],
   "execution_count": null
  },
  {
   "metadata": {},
   "cell_type": "code",
   "source": "",
   "id": "6a9b88752cdfe168",
   "outputs": [],
   "execution_count": null
  },
  {
   "metadata": {},
   "cell_type": "code",
   "source": "",
   "id": "77eafc516bc1bd5b",
   "outputs": [],
   "execution_count": null
  },
  {
   "metadata": {},
   "cell_type": "code",
   "source": "",
   "id": "3890a57204b123b9",
   "outputs": [],
   "execution_count": null
  },
  {
   "metadata": {},
   "cell_type": "code",
   "source": "",
   "id": "70aa3044daaec4e7",
   "outputs": [],
   "execution_count": null
  },
  {
   "metadata": {},
   "cell_type": "code",
   "source": "",
   "id": "1888d172902fc020",
   "outputs": [],
   "execution_count": null
  }
 ],
 "metadata": {
  "kernelspec": {
   "display_name": "Python 3",
   "language": "python",
   "name": "python3"
  },
  "language_info": {
   "codemirror_mode": {
    "name": "ipython",
    "version": 2
   },
   "file_extension": ".py",
   "mimetype": "text/x-python",
   "name": "python",
   "nbconvert_exporter": "python",
   "pygments_lexer": "ipython2",
   "version": "2.7.6"
  }
 },
 "nbformat": 4,
 "nbformat_minor": 5
}
